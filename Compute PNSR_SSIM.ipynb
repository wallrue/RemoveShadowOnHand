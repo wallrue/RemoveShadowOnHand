{
 "cells": [
  {
   "cell_type": "code",
   "execution_count": 2,
   "id": "e84e8490",
   "metadata": {},
   "outputs": [],
   "source": [
    "import cv2\n",
    "from imutils import paths\n",
    "import numpy as np\n",
    "import math\n",
    "from tqdm import tqdm\n",
    "import os\n",
    "from PIL import Image"
   ]
  },
  {
   "cell_type": "code",
   "execution_count": 2,
   "id": "e41ce274",
   "metadata": {},
   "outputs": [],
   "source": [
    "def calculate_psnr(img1_tensor, img2_tensor):\n",
    "    \"\"\"Calculate PSNR score\n",
    "    \n",
    "    Parameters:\n",
    "        img1_tensor (int) -- a image to compare, range [0, 255]\n",
    "        img2_tensor (int) -- a image to compare, range [0, 255]\n",
    "    \"\"\"    \n",
    "    img1 = ((img1_tensor + 1.0)*255.0/2.0).astype(np.float64)\n",
    "    img2 = ((img2_tensor + 1.0)*255.0/2.0).astype(np.float64)\n",
    "    mse = np.mean((img1 - img2)**2)\n",
    "    if mse == 0:\n",
    "        return float('inf')\n",
    "    return 20 * math.log10(255.0 / math.sqrt(mse))\n",
    "\n",
    "def calculate_ssim(img1_tensor, img2_tensor):\n",
    "    \"\"\"Calculate SSIM score\n",
    "    \n",
    "    Parameters:\n",
    "        img1_tensor (int) -- a image to compare, range [0, 255]\n",
    "        img2_tensor (int) -- a image to compare, range [0, 255]\n",
    "    \"\"\"\n",
    "    def ssim(img1, img2):\n",
    "        C1 = (0.01 * 255)**2\n",
    "        C2 = (0.03 * 255)**2\n",
    "\n",
    "        kernel = cv2.getGaussianKernel(11, 1.5)\n",
    "        window = np.outer(kernel, kernel.transpose())\n",
    "\n",
    "        mu1 = cv2.filter2D(img1, -1, window)[5:-5, 5:-5]  # valid\n",
    "        mu2 = cv2.filter2D(img2, -1, window)[5:-5, 5:-5]\n",
    "        mu1_sq = mu1**2\n",
    "        mu2_sq = mu2**2\n",
    "        mu1_mu2 = mu1 * mu2\n",
    "        sigma1_sq = cv2.filter2D(img1**2, -1, window)[5:-5, 5:-5] - mu1_sq\n",
    "        sigma2_sq = cv2.filter2D(img2**2, -1, window)[5:-5, 5:-5] - mu2_sq\n",
    "        sigma12 = cv2.filter2D(img1 * img2, -1, window)[5:-5, 5:-5] - mu1_mu2\n",
    "\n",
    "        ssim_map = ((2 * mu1_mu2 + C1) * (2 * sigma12 + C2)) / ((mu1_sq + mu2_sq + C1) *\n",
    "                                                                (sigma1_sq + sigma2_sq + C2))\n",
    "        return ssim_map.mean()\n",
    "    \n",
    "    img1 = ((img1_tensor + 1.0)*255.0/2.0).astype(np.float64)\n",
    "    img2 = ((img2_tensor + 1.0)*255.0/2.0).astype(np.float64)\n",
    "    if not img1.shape == img2.shape:\n",
    "        raise ValueError('Input images must have the same dimensions.')\n",
    "    if img1.ndim == 2:\n",
    "        return ssim(img1, img2)\n",
    "    elif img1.ndim == 3:\n",
    "        if img1.shape[2] == 3:\n",
    "            ssims = []\n",
    "            for i in range(3):\n",
    "                ssims.append(ssim(img1, img2))\n",
    "            return np.array(ssims).mean()\n",
    "        elif img1.shape[2] == 1:\n",
    "            return ssim(np.squeeze(img1), np.squeeze(img2))\n",
    "    else:\n",
    "        raise ValueError('Wrong input image dimensions.')"
   ]
  },
  {
   "cell_type": "code",
   "execution_count": 3,
   "id": "4faa9e28",
   "metadata": {},
   "outputs": [
    {
     "name": "stderr",
     "output_type": "stream",
     "text": [
      "100%|██████████████████████████████████████████████████████████████████████████████| 1600/1600 [01:39<00:00, 16.16it/s]"
     ]
    },
    {
     "name": "stdout",
     "output_type": "stream",
     "text": [
      "PNSR_dict: 15.44735212964792 , SSIM_dict: 0.285619528392657\n",
      "PNSR_dict_in: 15.657911585267643 , SSIM_dict_in: 0.2944340713775102\n",
      "PNSR_dict_out: 15.236792674028193 , SSIM_dict_out: 0.27680498540780485\n"
     ]
    },
    {
     "name": "stderr",
     "output_type": "stream",
     "text": [
      "\n"
     ]
    }
   ],
   "source": [
    "groudtruth = list(paths.list_images(\"C:\\\\Users\\\\lemin\\\\Downloads\\\\result_set\\\\groudtruth__vein\"))\n",
    "original = list(paths.list_images(\"C:\\\\Users\\\\lemin\\\\Downloads\\\\result_set\\\\original__vein\"))\n",
    "\n",
    "PNSR_dict, SSIM_dict, PNSR_dict_in, SSIM_dict_in, PNSR_dict_out, SSIM_dict_out = 0, 0, 0, 0, 0, 0\n",
    "for i in tqdm(range(len(original))):\n",
    "    img_original = (cv2.imread(original[i])/255.0-0.5)*2.0\n",
    "    img_groudtruth = (cv2.imread(groudtruth[i])/255.0-0.5)*2.0\n",
    "    \n",
    "    PNSR_dict += calculate_psnr(img_groudtruth, img_original)\n",
    "    SSIM_dict += calculate_ssim(img_groudtruth, img_original)\n",
    "    if i%10 < 5:\n",
    "        PNSR_dict_in += calculate_psnr(img_groudtruth, img_original)\n",
    "        SSIM_dict_in += calculate_ssim(img_groudtruth, img_original)\n",
    "    else:\n",
    "        PNSR_dict_out += calculate_psnr(img_groudtruth, img_original)\n",
    "        SSIM_dict_out += calculate_ssim(img_groudtruth, img_original)\n",
    "\n",
    "print(\"PNSR_dict:\", PNSR_dict/len(original), \", SSIM_dict:\", SSIM_dict/len(original))\n",
    "print(\"PNSR_dict_in:\", PNSR_dict_in/len(original)*2, \", SSIM_dict_in:\", SSIM_dict_in/len(original)*2)\n",
    "print(\"PNSR_dict_out:\", PNSR_dict_out/len(original)*2, \", SSIM_dict_out:\", SSIM_dict_out/len(original)*2)"
   ]
  },
  {
   "cell_type": "code",
   "execution_count": null,
   "id": "68aa6a41",
   "metadata": {},
   "outputs": [],
   "source": []
  }
 ],
 "metadata": {
  "kernelspec": {
   "display_name": "Python 3 (ipykernel)",
   "language": "python",
   "name": "python3"
  },
  "language_info": {
   "codemirror_mode": {
    "name": "ipython",
    "version": 3
   },
   "file_extension": ".py",
   "mimetype": "text/x-python",
   "name": "python",
   "nbconvert_exporter": "python",
   "pygments_lexer": "ipython3",
   "version": "3.9.12"
  }
 },
 "nbformat": 4,
 "nbformat_minor": 5
}
