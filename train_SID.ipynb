{
 "cells": [
  {
   "cell_type": "markdown",
   "metadata": {
    "id": "tVrc_rfqWntM",
    "tags": []
   },
   "source": [
    "# SID MODEL"
   ]
  },
  {
   "cell_type": "code",
   "execution_count": null,
   "metadata": {
    "tags": []
   },
   "outputs": [],
   "source": [
    "from options.train_options import TrainOptions\n",
    "from options.test_options import TestOptions\n",
    "from data import CustomDatasetDataLoader\n",
    "from models import create_model\n",
    "\n",
    "from PIL import Image\n",
    "\n",
    "import torch\n",
    "import torch.nn.functional as F\n",
    "import numpy as np\n",
    "import util.util as util\n",
    "import matplotlib.pyplot as plt\n",
    "import cv2\n",
    "import time"
   ]
  },
  {
   "cell_type": "code",
   "execution_count": null,
   "metadata": {},
   "outputs": [],
   "source": [
    "opt = TrainOptions().parse()"
   ]
  },
  {
   "cell_type": "code",
   "execution_count": null,
   "metadata": {},
   "outputs": [],
   "source": [
    "data_loader = CustomDatasetDataLoader(opt) #createDataLoader(opt)\n",
    "dataset = data_loader.load_data()\n",
    "dataset_size = len(data_loader)"
   ]
  },
  {
   "cell_type": "code",
   "execution_count": null,
   "metadata": {},
   "outputs": [],
   "source": [
    "train_model = create_model(opt)\n",
    "train_model.setup(opt)"
   ]
  },
  {
   "cell_type": "code",
   "execution_count": 13,
   "metadata": {
    "colab": {
     "base_uri": "https://localhost:8080/"
    },
    "collapsed": true,
    "executionInfo": {
     "elapsed": 4454,
     "status": "ok",
     "timestamp": 1662909177174,
     "user": {
      "displayName": "Tuong Le",
      "userId": "08026976454110141976"
     },
     "user_tz": -480
    },
    "id": "zVzrvTw3VtZc",
    "jupyter": {
     "outputs_hidden": true
    },
    "outputId": "3d25ab2c-95f8-4e08-dca5-5d60dad3d8d9",
    "tags": []
   },
   "outputs": [
    {
     "name": "stdout",
     "output_type": "stream",
     "text": [
      "initialize network with normal\n",
      "initialize network with normal\n",
      "initialize network with normal\n",
      "initialize network with normal\n"
     ]
    },
    {
     "data": {
      "text/plain": [
       "discriminator(\n",
       "  (inc): inconv(\n",
       "    (conv): Conv2d(7, 64, kernel_size=(4, 4), stride=(2, 2), padding=(1, 1), bias=False)\n",
       "  )\n",
       "  (conv_1): lrl_conv_bn(\n",
       "    (conv_bn): Sequential(\n",
       "      (0): LeakyReLU(negative_slope=0.2, inplace=True)\n",
       "      (1): Conv2d(64, 128, kernel_size=(4, 4), stride=(2, 2), padding=(1, 1), bias=False)\n",
       "      (2): BatchNorm2d(128, eps=1e-05, momentum=0.1, affine=True, track_running_stats=True)\n",
       "    )\n",
       "  )\n",
       "  (conv_2): lrl_conv_bn(\n",
       "    (conv_bn): Sequential(\n",
       "      (0): LeakyReLU(negative_slope=0.2, inplace=True)\n",
       "      (1): Conv2d(128, 256, kernel_size=(4, 4), stride=(2, 2), padding=(1, 1), bias=False)\n",
       "      (2): BatchNorm2d(256, eps=1e-05, momentum=0.1, affine=True, track_running_stats=True)\n",
       "    )\n",
       "  )\n",
       "  (conv_3): lrl_conv_bn(\n",
       "    (conv_bn): Sequential(\n",
       "      (0): LeakyReLU(negative_slope=0.2, inplace=True)\n",
       "      (1): Conv2d(256, 512, kernel_size=(4, 4), stride=(2, 2), padding=(1, 1), bias=False)\n",
       "      (2): BatchNorm2d(512, eps=1e-05, momentum=0.1, affine=True, track_running_stats=True)\n",
       "    )\n",
       "  )\n",
       "  (conv_4): lrl_conv(\n",
       "    (conv): Sequential(\n",
       "      (0): LeakyReLU(negative_slope=0.2, inplace=True)\n",
       "      (1): Conv2d(512, 1, kernel_size=(4, 4), stride=(2, 2), padding=(1, 1), bias=False)\n",
       "    )\n",
       "  )\n",
       ")"
      ]
     },
     "execution_count": 13,
     "metadata": {},
     "output_type": "execute_result"
    }
   ],
   "source": [
    "total_steps = 0\n",
    "\n",
    "for epoch in range(opt.epoch_count, opt.niter + opt.niter_decay + 1):\n",
    "    epoch_start_time = time.time()\n",
    "    epoch_iter = 0\n",
    "    model.epoch = epoch\n",
    "\n",
    "    for i, data in enumerate(dataset):\n",
    "        iter_start_time = time.time()\n",
    "        total_steps += opt.batch_size\n",
    "        epoch_iter += opt.batch_size\n",
    "        model.set_input(data)\n",
    "        model.optimize_parameters()\n",
    "        #model.cepoch=epoch\n",
    "\n",
    "    if epoch % opt.save_epoch_freq == 0:\n",
    "        print('saving the model at the end of epoch %d, iters %d' %\n",
    "              (epoch, total_steps))\n",
    "        model.save_networks('latest')\n",
    "        model.save_networks(epoch)\n",
    "\n",
    "    print('End of epoch %d / %d \\t Time Taken: %d sec' %\n",
    "          (epoch, opt.niter + opt.niter_decay, time.time() - epoch_start_time))\n",
    "    model.update_learning_rate()\n"
   ]
  }
 ],
 "metadata": {
  "colab": {
   "authorship_tag": "ABX9TyN5RxWb5ivDFuDEQwpprk1+",
   "collapsed_sections": [],
   "provenance": []
  },
  "kernelspec": {
   "display_name": "Python 3 (ipykernel)",
   "language": "python",
   "name": "python3"
  },
  "language_info": {
   "codemirror_mode": {
    "name": "ipython",
    "version": 3
   },
   "file_extension": ".py",
   "mimetype": "text/x-python",
   "name": "python",
   "nbconvert_exporter": "python",
   "pygments_lexer": "ipython3",
   "version": "3.9.12"
  }
 },
 "nbformat": 4,
 "nbformat_minor": 4
}
